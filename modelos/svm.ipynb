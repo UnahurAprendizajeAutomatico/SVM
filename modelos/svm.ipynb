{
 "cells": [
  {
   "cell_type": "markdown",
   "source": [
    "# Trabajo Practico Nº 3\n",
    "## SVM"
   ],
   "metadata": {
    "collapsed": false
   },
   "id": "fc3b810ba74496d1"
  },
  {
   "cell_type": "markdown",
   "source": [
    "### Se conjunto de datos creados TP3-1 en R2 \n",
    "### Lineamente separables \n",
    "\\begin{align*}\n",
    "\\large y = 2x - 4 \\text{(Funcion de la recta)} \\\\\n",
    "\\end{align*}\n",
    "\n",
    "\n",
    "\n"
   ],
   "metadata": {
    "collapsed": false
   },
   "id": "34fc25fa146937d0"
  },
  {
   "cell_type": "markdown",
   "source": [
    "### Conjuntos de datos TP3-1"
   ],
   "metadata": {
    "collapsed": false
   },
   "id": "9210cadf172ae63e"
  },
  {
   "cell_type": "code",
   "execution_count": null,
   "outputs": [],
   "source": [
    "import numpy as np\n",
    "import matplotlib.pyplot as plt\n",
    "\n",
    "# Establecer una semilla aleatoria para la reproducibilidad\n",
    "np.random.seed(0)\n",
    "\n",
    "# Generar puntos aleatorios en el rango [0, 5] × [0, 5]\n",
    "num_points = 20\n",
    "x1 = np.random.uniform(0, 5, num_points)\n",
    "x2 = np.random.uniform(0, 5, num_points)\n",
    "\n",
    "# Definir la línea de separación\n",
    "# Por ejemplo, y = 2x - 4\n",
    "def separador(x):\n",
    "    return 2 * x  - 4\n",
    "\n",
    "# Asignar etiquetas de clase 1 o -1 según la posición con respecto a la línea\n",
    "y_real = np.where(x2 >= separador(x1), 1, -1)\n",
    "\n",
    "# Visualizar los datos\n",
    "plt.scatter(x1[y_real == 1], x2[y_real == 1], label='Clase 1')\n",
    "plt.scatter(x1[y_real == -1], x2[y_real == -1], label='Clase -1')\n",
    "plt.plot([0, 5], [separador(0), separador(5)], color='#A5DF00', linestyle='--', label='Línea de separación')\n",
    "plt.xlabel('Característica 1')\n",
    "plt.ylabel('Característica 2')\n",
    "plt.legend(loc='lower left',bbox_to_anchor=(1, 0.5))\n",
    "plt.title('TP3-1')\n",
    "plt.ylim(bottom=-4,top=6)\n",
    "plt.show()\n"
   ],
   "metadata": {
    "collapsed": false
   },
   "id": "6077a08f14558a9c"
  },
  {
   "cell_type": "markdown",
   "source": [
    "Se pude visualizar que el ___hiperplano___ de separación esta haciendo una buena clasificación de las clase pero no podemos garantizar que sea el optimo ya que hay puntos que se encuentra muy cerca del ___hiperplano___"
   ],
   "metadata": {
    "collapsed": false
   },
   "id": "7c4e5530b7fecc2b"
  },
  {
   "cell_type": "markdown",
   "source": [
    "## Se crea un perceptron simple escalon\n"
   ],
   "metadata": {
    "collapsed": false
   },
   "id": "38586e84f52e1bb2"
  },
  {
   "cell_type": "code",
   "execution_count": null,
   "outputs": [],
   "source": [
    "# Función para crear un perceptron simple\n",
    "# Función de activación\n",
    "\n",
    "def step_activation(sum):\n",
    "    return 1 if sum >= 0 else - 1\n",
    "\n",
    "# Algoritmo de entrenamiento del perceptrón \n",
    "\n",
    "def train_perceptron(X, y, learning_rate, epochs=10):\n",
    "    #Inicializar pesos y sesgo\n",
    "    num_features = X.shape[1]\n",
    "    w = np.zeros(num_features)\n",
    "    b = 0\n",
    "    \n",
    "    for epoch in range(epochs):\n",
    "        for i in range(X.shape[0]):\n",
    "            sum = np.dot(X[i], w ) + b\n",
    "            y_pred = step_activation(sum)\n",
    "            \n",
    "            # Actualiza pesos y sesgo\n",
    "            if y[i] != y_pred:\n",
    "                w += learning_rate * y[i] * X[i]\n",
    "                b += learning_rate * y[i]\n",
    "    return w ,b \n",
    "\n"
   ],
   "metadata": {
    "collapsed": false
   },
   "id": "51f756213d56bb1f"
  },
  {
   "cell_type": "markdown",
   "source": [
    "### Entrenamiento del preceptrón con el conjunto de datos TP3-1"
   ],
   "metadata": {
    "collapsed": false
   },
   "id": "89eb36be0fe1a301"
  },
  {
   "cell_type": "code",
   "execution_count": null,
   "outputs": [],
   "source": [
    "# Combina los 2 arreglos y los transpone \n",
    "# Datos de entrenamiento\n",
    "X1 = np.vstack((x1, x2)) . T\n",
    "y = y_real\n",
    "\n",
    "# Entrenar perceptron\n",
    "learning_rate = 0.01\n",
    "epochs = 10000\n",
    "w, b = train_perceptron(X1, y, learning_rate, epochs)\n",
    "\n",
    "predicciones = [step_activation(np.dot(x,w) + b) for x in X1]\n"
   ],
   "metadata": {
    "collapsed": false
   },
   "id": "d226c45b484ae1a1"
  },
  {
   "cell_type": "markdown",
   "source": [
    "### Grafica comparativa entre la separación real y la separación del perceptrón"
   ],
   "metadata": {
    "collapsed": false
   },
   "id": "e95ed347ff10a75f"
  },
  {
   "cell_type": "code",
   "execution_count": null,
   "outputs": [],
   "source": [
    "# Crear la gráfica\n",
    "plt.scatter(x1[y_real == 1], x2[y_real == 1], label='Clase 1')\n",
    "plt.scatter(x1[y_real == -1], x2[y_real == -1], label='Clase -1')\n",
    "plt.plot([0, 5], [separador(0), separador(5)], color='#A5DF00', linestyle='--', label='Línea de separación (Real)')\n",
    "plt.plot([0, 5], [-(w[0]/w[1])*0 + (-b/w[1]), -(w[0]/w[1])*5 + (-b/w[1])], color='#8258FA', linestyle='-.', label='Línea de separación (Perceptrón)')\n",
    "plt.xlabel('Característica 1')\n",
    "plt.ylabel('Característica 2')\n",
    "plt.legend(loc='lower left', bbox_to_anchor=(1, 0.5))\n",
    "plt.title('TP3-1 perceptrón')\n",
    "plt.ylim(bottom=-4,top=6)\n",
    "plt.show()"
   ],
   "metadata": {
    "collapsed": false
   },
   "id": "9e5ffd55a032b36d"
  },
  {
   "cell_type": "markdown",
   "source": [
    "# SVM TP3-1 Obtener Hiperplano Optimo"
   ],
   "metadata": {
    "collapsed": false
   },
   "id": "457cd7eaa81a755e"
  },
  {
   "cell_type": "code",
   "execution_count": null,
   "outputs": [],
   "source": [
    "# Aca poner la implementacion del hiperplano optimo"
   ],
   "metadata": {
    "collapsed": false
   },
   "id": "75069b0a758939d8"
  },
  {
   "cell_type": "markdown",
   "source": [
    "### Conjunto de datos TP3-2"
   ],
   "metadata": {
    "collapsed": false
   },
   "id": "cd9dc174d4d32365"
  },
  {
   "cell_type": "code",
   "execution_count": 27,
   "outputs": [
    {
     "data": {
      "text/plain": "<Figure size 640x480 with 1 Axes>",
      "image/png": "[encoded data removed]"
     },
     "metadata": {},
     "output_type": "display_data"
    }
   ],
   "source": [
    "'''\n",
    "    Se crea un nuevo conjunto de datos\n",
    "    Se utiliza el conjunto de datos ya creado anteriormente\n",
    "    X1 y se usa el mismo separador y_real\n",
    "    Luego se genera pto mal clasificados y se agrega al conjunto de datos\n",
    "'''\n",
    "\n",
    "# Generar pto mal clasificados\n",
    "num_mal_clasificados = 5\n",
    "x1_mal = np.random.uniform(0, 5, num_mal_clasificados)\n",
    "x2_mal = separador(x1_mal) + np.random.uniform(-0.5, 0.5, num_mal_clasificados)\n",
    "y_mal = -y_real[:num_mal_clasificados]\n",
    "\n",
    "# Añadir al conjunto X1 los pto mal clasificados\n",
    "x1 = np.concatenate([x1, x1_mal])\n",
    "x2 = np.concatenate([x2, x2_mal])\n",
    "y_real = np.concatenate([y_real, y_mal])\n",
    "\n",
    "# Visualizar los datos\n",
    "plt.scatter(x1[y_real == 1], x2[y_real == 1], label='Clase 1')\n",
    "plt.scatter(x1[y_real == -1], x2[y_real == -1], label='Clase -1')\n",
    "plt.plot([0, 5], [separador(0), separador(5)], color='#A5DF00', linestyle='--', label='Línea de separación')\n",
    "plt.xlabel('Característica 1')\n",
    "plt.ylabel('Característica 2')\n",
    "plt.legend(loc='lower left',bbox_to_anchor=(1, 0.5))\n",
    "plt.title('TP3-2')\n",
    "plt.ylim(bottom=-4,top=6)\n",
    "plt.show()"
   ],
   "metadata": {
    "collapsed": false,
    "ExecuteTime": {
     "end_time": "2023-11-07T20:48:48.261199033Z",
     "start_time": "2023-11-07T20:48:48.135779246Z"
    }
   },
   "id": "38068f7a08eb4bc9"
  },
  {
   "cell_type": "markdown",
   "source": [
    "### Conjunto TP3-2 no linealmente separable"
   ],
   "metadata": {
    "collapsed": false
   },
   "id": "56025d5daae9145d"
  },
  {
   "cell_type": "code",
   "execution_count": 32,
   "outputs": [
    {
     "data": {
      "text/plain": "<Figure size 640x480 with 1 Axes>",
      "image/png": "[encoded data removed]"
     },
     "metadata": {},
     "output_type": "display_data"
    }
   ],
   "source": [
    "# Definir linea de separacion\n",
    "def mal_separador(x):\n",
    "    return 2 * x**2 - 4\n",
    "\n",
    "y_real = np.where(x2 >= mal_separador(x1), 1, -1)\n",
    "\n",
    "# Visualizar los datos\n",
    "plt.scatter(x1[y_real == 1], x2[y_real == 1], label='Clase 1')\n",
    "plt.scatter(x1[y_real == -1], x2[y_real == -1], label='Clase -1')\n",
    "plt.plot(np.linspace(0,5,100), separador(np.linspace(0,5,100)), color='#A5DF00', linestyle='--', label='Línea de separación')\n",
    "plt.xlabel('Característica 1')\n",
    "plt.ylabel('Característica 2')\n",
    "plt.legend(loc='lower left',bbox_to_anchor=(1, 0.5))\n",
    "plt.title('Conjunto de datos no linealmente separable')\n",
    "plt.ylim(bottom=-4,top=6)\n",
    "plt.show()"
   ],
   "metadata": {
    "collapsed": false,
    "ExecuteTime": {
     "end_time": "2023-11-07T20:54:30.262949748Z",
     "start_time": "2023-11-07T20:54:30.115008914Z"
    }
   },
   "id": "6cc7d437c7abd832"
  },
  {
   "cell_type": "code",
   "execution_count": 33,
   "outputs": [
    {
     "data": {
      "text/plain": "<Figure size 640x480 with 1 Axes>",
      "image/png": "[encoded data removed]"
     },
     "metadata": {},
     "output_type": "display_data"
    }
   ],
   "source": [
    "import numpy as np\n",
    "import matplotlib.pyplot as plt\n",
    "from sklearn.datasets import make_circles\n",
    "\n",
    "# Generar un conjunto de datos que no es linealmente separable\n",
    "X, y = make_circles(n_samples=100, factor=0.3, noise=0.05)\n",
    "\n",
    "# Visualizar los datos\n",
    "plt.scatter(X[y == 0, 0], X[y == 0, 1], label='Clase 0')\n",
    "plt.scatter(X[y == 1, 0], X[y == 1, 1], label='Clase 1')\n",
    "plt.xlabel('Característica 1')\n",
    "plt.ylabel('Característica 2')\n",
    "plt.legend(loc='lower left',bbox_to_anchor=(1, 0.5))\n",
    "plt.title('Conjunto de datos no linealmente separable')\n",
    "plt.show()"
   ],
   "metadata": {
    "collapsed": false,
    "ExecuteTime": {
     "end_time": "2023-11-07T20:55:25.914023898Z",
     "start_time": "2023-11-07T20:55:25.779173921Z"
    }
   },
   "id": "c7e8411538e31dfa"
  },
  {
   "cell_type": "markdown",
   "source": [
    "## Ejercico N 2\n",
    "### Segmentación de imagen"
   ],
   "metadata": {
    "collapsed": false
   },
   "id": "235e0b11978146d4"
  },
  {
   "cell_type": "markdown",
   "source": [
    "#### ___Carga de las imagenes___"
   ],
   "metadata": {
    "collapsed": false
   },
   "id": "ff85154eafd5a620"
  },
  {
   "cell_type": "code",
   "execution_count": null,
   "outputs": [],
   "source": [
    "import cv2\n",
    "import warnings\n",
    "warnings.filterwarnings(\"ignore\", category=UserWarning, module=\"sklearn\")\n",
    "\n",
    "# Lista para cargar cada imagen\n",
    "\n",
    "rutas_imagenes = [\n",
    "    '../imagenes/vaca.jpg',\n",
    "    '../imagenes/cielo.jpg',\n",
    "    '../imagenes/pasto.jpg'\n",
    "]\n",
    "\n",
    "# Lista con las imagenes y se cargan las imagenes\n",
    "imagenes = [cv2.imread(ruta) for ruta in rutas_imagenes if cv2.imread(ruta) is not None]\n",
    "\n",
    "# Se crea una lista con los nombres de cada imagen\n",
    "nombre_imagenes = ['vaca', 'cielo', 'pasto']\n",
    "\n",
    "# Se crea un diccionario para almacenar las imagenes con nombres\n",
    "dic_imagenes = {nombre: imagen for nombre, imagen in zip (nombre_imagenes, imagenes)}\n",
    "\n",
    "\n",
    "# Se imprime el tamaño de cada imagen\n",
    "# Altura - Ancho - Canales \n",
    "for nombre, imagen in dic_imagenes.items():\n",
    "    print(f'Nombre: {nombre}, Tamaño: {imagen.shape}')"
   ],
   "metadata": {
    "collapsed": false
   },
   "id": "60e83e86ff06cb61"
  },
  {
   "cell_type": "markdown",
   "source": [
    "#### Redimenzionar las Imagenes"
   ],
   "metadata": {
    "collapsed": false
   },
   "id": "7ec219405103004d"
  },
  {
   "cell_type": "code",
   "execution_count": null,
   "outputs": [],
   "source": [
    "# Obtener el alto y ancho maximo \n",
    "\n",
    "altura_max = max(imagen.shape[0] for imagen in dic_imagenes.values())\n",
    "ancho_max = max(imagen.shape[1] for imagen in dic_imagenes.values())\n",
    "\n",
    "# Redoimenzionar las imagenes para que sean todas iguales\n",
    "dic_imagenes = {nombre: cv2.resize(imagen,(ancho_max, altura_max)) for nombre, imagen in dic_imagenes.items()}\n",
    "\n",
    "for nombre, imagen in dic_imagenes.items():\n",
    "    print(f'Nombre: {nombre}, Tamaño: {imagen.shape}')"
   ],
   "metadata": {
    "collapsed": false
   },
   "id": "4da86aa1ed842194"
  },
  {
   "cell_type": "markdown",
   "source": [
    "### Construcción de los conjunto de datos"
   ],
   "metadata": {
    "collapsed": false
   },
   "id": "da88947ac050b6e1"
  },
  {
   "cell_type": "code",
   "execution_count": null,
   "outputs": [],
   "source": [
    "import pandas as pd\n",
    "# Define tus etiquetas de clase\n",
    "etiquetas = {\n",
    "    'vaca': 0,\n",
    "    'cielo': 1,\n",
    "    'pasto': 2\n",
    "}\n",
    "\n",
    "# Listas para almacenar datos\n",
    "datos = []\n",
    "etiqueta_column = []\n",
    "\n",
    "# Itera sobre el diccionario de imágenes\n",
    "for nombre, imagen in dic_imagenes.items():\n",
    "    # Extrae los valores RGB de la imagen y aplana la lista de píxeles\n",
    "    valores_rgb = imagen.reshape(-1, 3)\n",
    "    \n",
    "    # Repite la etiqueta para cada píxel en la imagen\n",
    "    etiqueta = [etiquetas[nombre]] * valores_rgb.shape[0]\n",
    "    \n",
    "    # Agrega los datos y etiquetas a las listas\n",
    "    datos.extend(valores_rgb)\n",
    "    etiqueta_column.extend(etiqueta)\n",
    "\n",
    "# Crea un DataFrame de pandas\n",
    "df = pd.DataFrame(datos, columns=['R', 'G', 'B'])\n",
    "df['Etiqueta'] = etiqueta_column\n",
    "\n"
   ],
   "metadata": {
    "collapsed": false
   },
   "id": "ac24e37b4cc56678"
  },
  {
   "cell_type": "markdown",
   "source": [
    "### Describe el contenido del dataset"
   ],
   "metadata": {
    "collapsed": false
   },
   "id": "3924d5bfb2d5efb7"
  },
  {
   "cell_type": "code",
   "execution_count": null,
   "outputs": [],
   "source": [
    "df.describe()"
   ],
   "metadata": {
    "collapsed": false
   },
   "id": "36c917f07e0a4221"
  },
  {
   "cell_type": "markdown",
   "source": [
    "### Separar los conjuntos de entranamiento y prueba"
   ],
   "metadata": {
    "collapsed": false
   },
   "id": "f67a9d54cfc5df54"
  },
  {
   "cell_type": "code",
   "execution_count": null,
   "outputs": [],
   "source": [
    "from sklearn.utils import shuffle\n",
    "\n",
    "'''\n",
    "    El dataset se encuentra ordenado por etiqueta,\n",
    "    esto puede introducir un sesgo en los datos si se dividen \n",
    "    directamente en conjunto de entrenamiento, prueba.\n",
    "    Por lo tanto se desordena el dataset par garantizar que los datos de\n",
    "    entrenamiento y prueba sean mas representativos\n",
    "'''\n",
    "# Se desordena el dataset\n",
    "df = shuffle(df, random_state=50)\n"
   ],
   "metadata": {
    "collapsed": false
   },
   "id": "6dcab15622fcdca2"
  },
  {
   "cell_type": "markdown",
   "source": [
    "#### Division del conjunto de datos en entrenamiento y prueba"
   ],
   "metadata": {
    "collapsed": false
   },
   "id": "1911d42042a9472b"
  },
  {
   "cell_type": "code",
   "execution_count": null,
   "outputs": [],
   "source": [
    "from sklearn.model_selection import train_test_split\n",
    "\n",
    "X = df[['R','G','B']] # Caracteristicas\n",
    "y = df['Etiqueta']\n",
    "\n",
    "# Se divide los datos en conjuntos de entrenamiento (80%) y prueba (20%)\n",
    "X_train, X_test, y_train, y_test = train_test_split(X,y, test_size=0.2, random_state=42)\n"
   ],
   "metadata": {
    "collapsed": false
   },
   "id": "8885553f8976afb6"
  },
  {
   "cell_type": "markdown",
   "source": [
    "### Crear el modelo SVM"
   ],
   "metadata": {
    "collapsed": false
   },
   "id": "173ab5281ead420a"
  },
  {
   "cell_type": "code",
   "execution_count": null,
   "outputs": [],
   "source": [
    "from sklearn.svm import SVC\n",
    "from tqdm import tqdm  \n",
    "\n",
    "# Encuentra el mejor valor C\n",
    "C = 10\n",
    "# Entrenamos el modelo con el conjunto de entrenamiento\n",
    "svm = SVC(kernel='linear',C=C, random_state=42)\n",
    "svm.fit(X_train, y_train)\n",
    "\n",
    "# Predecimos con el conjunto de prueba\n",
    "predicciones = svm.predict(X_test)"
   ],
   "metadata": {
    "collapsed": false,
    "is_executing": true
   },
   "id": "243ba7dc1c498e29"
  },
  {
   "cell_type": "code",
   "execution_count": null,
   "outputs": [],
   "source": [
    "from tqdm import tqdm  # Importa tqdm para la barra de progreso\n",
    "\n",
    "# Carga la imagen grande\n",
    "imagen_grande = cv2.imread('../imagenes/cow.jpg')\n",
    "\n",
    "# Obtener el tamaño de la imagen \n",
    "alto_imagen, ancho_imagen, _ = imagen_grande.shape\n",
    "# Define el tamaño de la ventana deslizante\n",
    "ventana_alto = 100\n",
    "ventana_ancho = 100\n",
    "paso_x = 10  # Tamaño de desplazamiento horizontal\n",
    "paso_y = 10  # Tamaño de desplazamiento vertical\n",
    "\n",
    "# Calcula el número total de iteraciones\n",
    "total_iteraciones = ((imagen_grande.shape[0] - ventana_alto) // paso_y + 1) * ((imagen_grande.shape[1] - ventana_ancho) // paso_x + 1)\n",
    "\n",
    "# Desliza la ventana a través de la imagen\n",
    "with tqdm(total=total_iteraciones) as pbar:\n",
    "    for y in range(0, imagen_grande.shape[0] - ventana_alto, paso_y):\n",
    "        for x in range(0, imagen_grande.shape[1] - ventana_ancho, paso_x):\n",
    "            # Extrae la región de la imagen\n",
    "            region = imagen_grande[y:y+ventana_alto, x:x+ventana_ancho]\n",
    "\n",
    "            # Realiza la predicción con el modelo SVM\n",
    "            caracteristicas_region = region.reshape(-1, 3)  # Asegúrate de que coincida con las característica1s de tu modelo\n",
    "            predicciones = svm.predict(caracteristicas_region)\n",
    "\n",
    "            # Marca los puntos según la predicción\n",
    "            for i, prediccion in enumerate(predicciones):\n",
    "                punto_x = x + ventana_ancho // 2\n",
    "                punto_y = y + ventana_alto // 2\n",
    "\n",
    "                if prediccion == 0:\n",
    "                    cv2.circle(imagen_grande, (punto_x, punto_y), 5, (0, 0, 255), -1)  # Marcar en rojo --> Vaca\n",
    "                elif prediccion == 1:\n",
    "                     cv2.circle(imagen_grande, (punto_x, punto_y), 5, (0, 255, 0), -1)  # Marcar en verde --> Cielo\n",
    "                elif prediccion == 2:\n",
    "                    cv2.circle(imagen_grande, (punto_x, punto_y), 5, (255, 0, 0), -1)  # Marcar en azul  --> Pasto\n",
    "            pbar.update(1)\n",
    "\n",
    "# Muestra la imagen con las marcas\n",
    "cv2.namedWindow(\"Imagen con Predicciones\", cv2.WINDOW_NORMAL)\n",
    "cv2.imshow('Imagen con Predicciones', imagen_grande)\n",
    "cv2.waitKey(-1)\n",
    "cv2.destroyAllWindows()\n"
   ],
   "metadata": {
    "collapsed": false,
    "is_executing": true
   },
   "id": "e120d983d013d29a"
  },
  {
   "cell_type": "code",
   "execution_count": null,
   "outputs": [],
   "source": [],
   "metadata": {
    "collapsed": false,
    "is_executing": true
   },
   "id": "86e0ae901597ddd8"
  },
  {
   "cell_type": "code",
   "execution_count": null,
   "outputs": [],
   "source": [],
   "metadata": {
    "collapsed": false,
    "is_executing": true
   },
   "id": "682fb4d4c8412a55"
  },
  {
   "cell_type": "markdown",
   "source": [],
   "metadata": {
    "collapsed": false
   },
   "id": "7023e1c0826dcfb6"
  }
 ],
 "metadata": {
  "kernelspec": {
   "display_name": "Python 3",
   "language": "python",
   "name": "python3"
  },
  "language_info": {
   "codemirror_mode": {
    "name": "ipython",
    "version": 2
   },
   "file_extension": ".py",
   "mimetype": "text/x-python",
   "name": "python",
   "nbconvert_exporter": "python",
   "pygments_lexer": "ipython2",
   "version": "2.7.6"
  }
 },
 "nbformat": 4,
 "nbformat_minor": 5
}
