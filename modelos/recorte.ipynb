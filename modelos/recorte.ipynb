{
 "cells": [
  {
   "cell_type": "code",
   "execution_count": 1,
   "id": "initial_id",
   "metadata": {
    "collapsed": true,
    "ExecuteTime": {
     "end_time": "2023-10-18T18:42:53.869467092Z",
     "start_time": "2023-10-18T18:42:53.704263941Z"
    }
   },
   "outputs": [
    {
     "name": "stdout",
     "output_type": "stream",
     "text": [
      "La imagen se cargo correctamente\n"
     ]
    }
   ],
   "source": [
    "import cv2\n",
    "\n",
    "path_imagen = '../imagenes/cow.jpg'\n",
    "\n",
    "imagen = cv2.imread(path_imagen)\n",
    "\n",
    "if imagen is not None:\n",
    "    print('La imagen se cargo correctamente')\n",
    "else: \n",
    "    print('No se puedo cargar la imagen')"
   ]
  },
  {
   "cell_type": "markdown",
   "source": [
    "### Recortar imagenes"
   ],
   "metadata": {
    "collapsed": false
   },
   "id": "6989a63693d07504"
  },
  {
   "cell_type": "code",
   "execution_count": 2,
   "outputs": [
    {
     "name": "stderr",
     "output_type": "stream",
     "text": [
      "Only C and default locale supported with the posix collation implementation\n",
      "Only C and default locale supported with the posix collation implementation\n",
      "Case insensitive sorting unsupported in the posix collation implementation\n",
      "Numeric mode unsupported in the posix collation implementation\n",
      "Only C and default locale supported with the posix collation implementation\n",
      "Only C and default locale supported with the posix collation implementation\n",
      "Case insensitive sorting unsupported in the posix collation implementation\n",
      "Numeric mode unsupported in the posix collation implementation\n"
     ]
    }
   ],
   "source": [
    "import cv2\n",
    "\n",
    "import cv2\n",
    "\n",
    "# Esta variable se utilizará para almacenar las coordenadas del ROI actual\n",
    "coordenadas_roi = []\n",
    "\n",
    "# Esta función manejará el evento de ratón\n",
    "def capturar_coordenadas(event, x, y, flags, param):\n",
    "    global coordenadas_roi\n",
    "\n",
    "    if event == cv2.EVENT_LBUTTONDOWN:\n",
    "        # Al hacer clic en el botón izquierdo del ratón, registra las coordenadas\n",
    "        coordenadas_roi.append((x, y))\n",
    "    elif event == cv2.EVENT_RBUTTONDOWN:\n",
    "        # Al hacer clic en el botón derecho del ratón, finaliza la selección y guarda la ROI\n",
    "        if len(coordenadas_roi) == 2:\n",
    "            (x1, y1), (x2, y2) = coordenadas_roi\n",
    "            roi = imagen[y1:y2, x1:x2]\n",
    "\n",
    "            # Guardar la ROI recortada en formato JPG\n",
    "            cv2.imwrite(f'ROI_{len(recortes) + 1}.jpg', roi)  # Cada recorte se guarda con un nombre único\n",
    "            recortes.append(roi)\n",
    "\n",
    "            # Limpiar las coordenadas para el próximo recorte\n",
    "            coordenadas_roi.clear()\n",
    "\n",
    "\n",
    "# Crea una ventana para mostrar la imagen y habilita el manejo de eventos de ratón\n",
    "cv2.namedWindow('Selecciona ROI')\n",
    "cv2.setMouseCallback('Selecciona ROI', capturar_coordenadas)\n",
    "\n",
    "# Muestra la imagen\n",
    "cv2.imshow('Selecciona ROI', imagen)\n",
    "\n",
    "# Lista para almacenar los recortes\n",
    "recortes = []\n",
    "\n",
    "while True:\n",
    "    key = cv2.waitKey(1)\n",
    "    \n",
    "    # Cuando el usuario presiona 'esc', detiene la selección y sale del bucle\n",
    "    if key == 27:  # 27 es el código de tecla para 'esc'\n",
    "        break\n",
    "\n",
    "# Cierra todas las ventanas de OpenCV al final\n",
    "cv2.destroyAllWindows()\n"
   ],
   "metadata": {
    "collapsed": false,
    "ExecuteTime": {
     "end_time": "2023-10-18T18:43:30.162221664Z",
     "start_time": "2023-10-18T18:42:53.858104758Z"
    }
   },
   "id": "2ea6a5a182538b5"
  }
 ],
 "metadata": {
  "kernelspec": {
   "display_name": "Python 3",
   "language": "python",
   "name": "python3"
  },
  "language_info": {
   "codemirror_mode": {
    "name": "ipython",
    "version": 2
   },
   "file_extension": ".py",
   "mimetype": "text/x-python",
   "name": "python",
   "nbconvert_exporter": "python",
   "pygments_lexer": "ipython2",
   "version": "2.7.6"
  }
 },
 "nbformat": 4,
 "nbformat_minor": 5
}
